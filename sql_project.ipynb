{
 "cells": [
  {
   "cell_type": "markdown",
   "metadata": {
    "id": "TuwSdWZlgveP"
   },
   "source": [
    "# SQL Project\n",
    "You were hired by Ironhack to perform an Analytics Consulting Project entitled: competitive landscape.\n",
    "\n",
    "Your mission is to create and populate an appropriate database with many coding schools that are our competition, as well as design an suitable queries that answer business questions of interest (to be defined by you)\n"
   ]
  },
  {
   "cell_type": "markdown",
   "metadata": {
    "id": "hXDGm8_RgG-K"
   },
   "source": [
    "**Suggested Steps in the Project:**\n",
    "\n",
    "\n",
    "*   Read this notebook and understand each function. Comment the code appropriately\n",
    "\n",
    "*   Populate the list of schools with a wider variety of schools (how are you going to get the school ID?)\n",
    "\n",
    "* Take a look at the obtained dataframes. What dimensions do you have? what keys do you have? how could the different dataframes be connected?\n",
    "\n",
    "* Go back to the drawing board and try to create an entity relationship diagram for tables available\n",
    "\n",
    "* Once you have the schemas you want, you will need to:\n",
    "  - create the suitable SQL queries to create the tables and populate them\n",
    "  - run these queries using the appropriate Python connectors\n",
    "  \n",
    "* Bonus: How will this datamodel be updated in the future? Please write auxiliary functions that test the database for data quality issues. For example: how could you make sure you only include the most recent comments when you re-run the script?\n",
    "\n",
    "\n",
    "# Suggested Deliverables\n",
    "\n",
    "* 5-6 minute presentation of data model created, decision process and business analysis proposed\n",
    "\n",
    "* exported .sql file with the final schema\n",
    "\n",
    "* Supporting python files used to generate all logic\n",
    "\n",
    "* High level documentation explaining tables designed and focusing on update methods\n",
    "\n",
    "Crucial hint: check out the following tutorial:\n",
    "https://www.dataquest.io/blog/sql-insert-tutorial/\n"
   ]
  },
  {
   "cell_type": "code",
   "execution_count": 40,
   "metadata": {
    "id": "CHQ8IJLpgBsH"
   },
   "outputs": [],
   "source": [
    "# you must populate this dict with the schools required -> try talking to the teaching team about this\n",
    "\n",
    "\n",
    "schools = {   \n",
    "'ironhack' : 10828,\n",
    "'app-academy' : 10525,\n",
    "'springboard' : 11035    \n",
    "}\n",
    "\n",
    "import re\n",
    "import pandas as pd\n",
    "from pandas.io.json import json_normalize\n",
    "import requests\n",
    "import getpass\n",
    "\n",
    "\n",
    "def get_comments_school(school):\n",
    "    TAG_RE = re.compile(r'<[^>]+>')\n",
    "    # defines url to make api call to data -> dynamic with school if you want to scrape competition\n",
    "    url = \"https://www.switchup.org/chimera/v1/school-review-list?mainTemplate=school-review-list&path=%2Fbootcamps%2F\" + school + \"&isDataTarget=false&page=3&perPage=10000&simpleHtml=true&truncationLength=250\"\n",
    "    #makes get request and converts answer to json\n",
    "    # url defines the page of all the information, request is made, and information is returned to data variable\n",
    "    data = requests.get(url).json()\n",
    "    #converts json to dataframe\n",
    "    reviews =  pd.DataFrame(data['content']['reviews'])\n",
    "  \n",
    "    #aux function to apply regex and remove tags\n",
    "    def remove_tags(x):\n",
    "        return TAG_RE.sub('',x)\n",
    "    reviews['review_body'] = reviews['body'].apply(remove_tags)\n",
    "    reviews['school'] = school\n",
    "    return reviews"
   ]
  },
  {
   "cell_type": "code",
   "execution_count": 41,
   "metadata": {
    "colab": {
     "base_uri": "https://localhost:8080/",
     "height": 67
    },
    "id": "cxSFN100h6Ej",
    "outputId": "458d1d46-1bbf-4298-a7e5-36eb63a06772"
   },
   "outputs": [],
   "source": [
    "# could you write this as a list comprehension? ;)\n",
    "#comments = []\n",
    "#for school in schools.keys():\n",
    "#    print(school)\n",
    "#    comments.append(get_comments_school(school))\n",
    "\n",
    "comments = [get_comments_school(school) for school in schools.keys()]\n",
    "\n",
    "comments = pd.concat(comments)"
   ]
  },
  {
   "cell_type": "code",
   "execution_count": null,
   "metadata": {},
   "outputs": [],
   "source": [
    "\"\"\"olhando o todo da tabela\"\"\"\n",
    "comments.describe"
   ]
  },
  {
   "cell_type": "code",
   "execution_count": 23,
   "metadata": {
    "colab": {
     "base_uri": "https://localhost:8080/",
     "height": 976
    },
    "id": "IL9osdr_iLZg",
    "outputId": "04b1a7f1-83d4-4d8e-fa14-b17ef93a18d2"
   },
   "outputs": [
    {
     "output_type": "execute_result",
     "data": {
      "text/plain": [
       "id                   0\n",
       "name                 0\n",
       "anonymous            0\n",
       "graduatingYear       4\n",
       "isAlumni             0\n",
       "jobTitle          1428\n",
       "tagline              1\n",
       "createdAt            0\n",
       "queryDate            0\n",
       "program            179\n",
       "overallScore         8\n",
       "overall             10\n",
       "curriculum          47\n",
       "jobSupport         247\n",
       "school               0\n",
       "dtype: int64"
      ]
     },
     "metadata": {},
     "execution_count": 23
    }
   ],
   "source": [
    "#comments.columns\n",
    "stud_a = comments.drop(columns = ['hostProgramName','body','user','comments','review_body'])\n",
    "#stud_a = comments._get_numeric_data()\n",
    "stud_a.describe\n",
    "#stud_a.head()\n",
    "stud_a.isnull().sum()\n"
   ]
  },
  {
   "cell_type": "code",
   "execution_count": 24,
   "metadata": {
    "colab": {
     "base_uri": "https://localhost:8080/",
     "height": 101
    },
    "id": "V_SXOtPxiNNY",
    "outputId": "6551b39b-685e-484e-cafa-16a4eb55515f"
   },
   "outputs": [
    {
     "output_type": "stream",
     "name": "stdout",
     "text": [
      "ironhack\n",
      "app-academy\n",
      "springboard\n"
     ]
    }
   ],
   "source": [
    "from pandas.io.json import json_normalize\n",
    "\n",
    "def get_school_info(school, school_id):\n",
    "    url = 'https://www.switchup.org/chimera/v1/bootcamp-data?mainTemplate=bootcamp-data%2Fdescription&path=%2Fbootcamps%2F'+ str(school) + '&isDataTarget=false&bootcampId='+ str(school_id) + '&logoTag=logo&truncationLength=250&readMoreOmission=...&readMoreText=Read%20More&readLessText=Read%20Less'\n",
    "\n",
    "    data = requests.get(url).json()\n",
    "\n",
    "    data.keys()\n",
    "\n",
    "    courses = data['content']['courses']\n",
    "    courses_df = pd.DataFrame(courses, columns= ['courses'])\n",
    "\n",
    "    locations = data['content']['locations']\n",
    "    locations_df = json_normalize(locations)\n",
    "\n",
    "    badges_df = pd.DataFrame(data['content']['meritBadges'])\n",
    "    \n",
    "    website = data['content']['webaddr']\n",
    "    description = data['content']['description']\n",
    "    logoUrl = data['content']['logoUrl']\n",
    "    school_df = pd.DataFrame([website,description,logoUrl]).T\n",
    "    school_df.columns =  ['website','description','LogoUrl']\n",
    "\n",
    "    locations_df['school'] = school\n",
    "    courses_df['school'] = school\n",
    "    badges_df['school'] = school\n",
    "    school_df['school'] = school\n",
    "    \n",
    "\n",
    "    locations_df['school_id'] = school_id\n",
    "    courses_df['school_id'] = school_id\n",
    "    badges_df['school_id'] = school_id\n",
    "    school_df['school_id'] = school_id\n",
    "\n",
    "    return locations_df, courses_df, badges_df, school_df\n",
    "\n",
    "locations_list = []\n",
    "courses_list = []\n",
    "badges_list = []\n",
    "schools_list = []\n",
    "\n",
    "for school, id in schools.items():\n",
    "    print(school)\n",
    "    a,b,c,d = get_school_info(school,id)\n",
    "    \n",
    "    locations_list.append(a)\n",
    "    courses_list.append(b)\n",
    "    badges_list.append(c)\n",
    "    schools_list.append(d)\n",
    "\n"
   ]
  },
  {
   "cell_type": "code",
   "execution_count": 36,
   "metadata": {
    "colab": {
     "base_uri": "https://localhost:8080/",
     "height": 374
    },
    "id": "9qAfH6JnP3Gd",
    "outputId": "31a7bbaa-4768-4fe2-cb79-52086092e2de"
   },
   "outputs": [
    {
     "output_type": "execute_result",
     "data": {
      "text/plain": [
       "   location_id    school  school_id    city_name  country_name\n",
       "0        15901  ironhack      10828       Berlin       Germany\n",
       "1        16022  ironhack      10828  Mexico City        Mexico\n",
       "2        16086  ironhack      10828    Amsterdam   Netherlands\n",
       "3        16088  ironhack      10828    Sao Paulo        Brazil\n",
       "4        16109  ironhack      10828        Paris        France"
      ],
      "text/html": "<div>\n<style scoped>\n    .dataframe tbody tr th:only-of-type {\n        vertical-align: middle;\n    }\n\n    .dataframe tbody tr th {\n        vertical-align: top;\n    }\n\n    .dataframe thead th {\n        text-align: right;\n    }\n</style>\n<table border=\"1\" class=\"dataframe\">\n  <thead>\n    <tr style=\"text-align: right;\">\n      <th></th>\n      <th>location_id</th>\n      <th>school</th>\n      <th>school_id</th>\n      <th>city_name</th>\n      <th>country_name</th>\n    </tr>\n  </thead>\n  <tbody>\n    <tr>\n      <th>0</th>\n      <td>15901</td>\n      <td>ironhack</td>\n      <td>10828</td>\n      <td>Berlin</td>\n      <td>Germany</td>\n    </tr>\n    <tr>\n      <th>1</th>\n      <td>16022</td>\n      <td>ironhack</td>\n      <td>10828</td>\n      <td>Mexico City</td>\n      <td>Mexico</td>\n    </tr>\n    <tr>\n      <th>2</th>\n      <td>16086</td>\n      <td>ironhack</td>\n      <td>10828</td>\n      <td>Amsterdam</td>\n      <td>Netherlands</td>\n    </tr>\n    <tr>\n      <th>3</th>\n      <td>16088</td>\n      <td>ironhack</td>\n      <td>10828</td>\n      <td>Sao Paulo</td>\n      <td>Brazil</td>\n    </tr>\n    <tr>\n      <th>4</th>\n      <td>16109</td>\n      <td>ironhack</td>\n      <td>10828</td>\n      <td>Paris</td>\n      <td>France</td>\n    </tr>\n  </tbody>\n</table>\n</div>"
     },
     "metadata": {},
     "execution_count": 36
    }
   ],
   "source": [
    "locations_list\n",
    "locations = pd.concat(locations_list)\n",
    "\n",
    "#print(locations.shape)\n",
    "locations.isnull().sum()\n",
    "\"\"\"As únicas colunas completas são: id, description, school, school_id\"\"\"\n",
    "locations.describe\n",
    "\n",
    "locations_a = locations.drop(columns=['country.id','country.name','country.abbrev','city.id','city.name','city.keyword', 'state.id', 'state.name','state.abbrev','state.keyword'])\n",
    "locations_a.head()\n",
    "\n",
    "#local = locations_a['description'].tolist()\n",
    "#print(local)\n",
    "\n",
    "#city_name = []\n",
    "#country_name = []\n",
    "\n",
    "#local_lst = []\n",
    "#for line in local:\n",
    "#    for item in line.split(','):\n",
    "#        #local_lst.append(item)\n",
    "#        if item != 'Online':\n",
    "#            city_name.append(item)\n",
    "#            country_name.append(item)\n",
    "#        else:\n",
    "#            city_name.append('Online')\n",
    "#            country_name.append('Online')\n",
    "#city_name\n",
    "\n",
    "locations_a['description'] = locations_a['description'].apply(lambda x: re.sub('Online', 'Online, Online',x))\n",
    "locations_a['city_name'] = locations_a['description'].apply(lambda x: x.split(',')[0])\n",
    "locations_a['country_name'] = locations_a['description'].apply(lambda x: x.split(',')[1])\n",
    "locations_a.drop(columns='description',inplace=True)\n",
    "locations_a.rename(columns={'id':'location_id'},inplace=True)\n",
    "locations_a.head()"
   ]
  },
  {
   "cell_type": "code",
   "execution_count": 45,
   "metadata": {
    "colab": {
     "base_uri": "https://localhost:8080/",
     "height": 348
    },
    "id": "eGw9AuxjiTaG",
    "outputId": "12e1e55e-d249-4db6-ac84-f102a351ab59"
   },
   "outputs": [
    {
     "output_type": "execute_result",
     "data": {
      "text/plain": [
       "array(['Data Analytics Bootcamp', 'Data Analytics Part-Time',\n",
       "       'UX/UI Design Bootcamp', 'UX/UI Design Part-Time',\n",
       "       'Web Development Bootcamp', 'Web Development Part-Time',\n",
       "       'Cyber Security Bootcamp', 'Bootcamp Prep',\n",
       "       'Software Engineer Track: In-Person',\n",
       "       'Software Engineer Track: Online', 'Data Analytics Career Track',\n",
       "       'Data Engineering Career Track', 'Data Science Career Track',\n",
       "       'Data Science Career Track Prep', 'Digital Marketing Career Track',\n",
       "       'Introduction to Cybersecurity', 'Introduction to Design',\n",
       "       'Machine Learning Engineering Career Track',\n",
       "       'Software Engineering Career Track',\n",
       "       'Software Engineering Career Track Prep Course',\n",
       "       'UI/UX Design Career Track', 'UX Career Track'], dtype=object)"
      ]
     },
     "metadata": {},
     "execution_count": 45
    }
   ],
   "source": [
    "courses = pd.concat(courses_list)\n",
    "courses['courses'].unique()\n",
    "#courses['course_area']\n",
    "#courses['course_type']"
   ]
  },
  {
   "cell_type": "code",
   "execution_count": 10,
   "metadata": {
    "colab": {
     "base_uri": "https://localhost:8080/",
     "height": 195
    },
    "id": "j---orWLiWs1",
    "outputId": "fcb68712-7492-417d-9f03-d8dbc5a7da44"
   },
   "outputs": [
    {
     "data": {
      "text/html": [
       "<div>\n",
       "<style scoped>\n",
       "    .dataframe tbody tr th:only-of-type {\n",
       "        vertical-align: middle;\n",
       "    }\n",
       "\n",
       "    .dataframe tbody tr th {\n",
       "        vertical-align: top;\n",
       "    }\n",
       "\n",
       "    .dataframe thead th {\n",
       "        text-align: right;\n",
       "    }\n",
       "</style>\n",
       "<table border=\"1\" class=\"dataframe\">\n",
       "  <thead>\n",
       "    <tr style=\"text-align: right;\">\n",
       "      <th></th>\n",
       "      <th>description</th>\n",
       "      <th>keyword</th>\n",
       "      <th>name</th>\n",
       "      <th>school</th>\n",
       "      <th>school_id</th>\n",
       "    </tr>\n",
       "  </thead>\n",
       "  <tbody>\n",
       "    <tr>\n",
       "      <th>0</th>\n",
       "      <td>&lt;p&gt;School offers fully online courses&lt;/p&gt;</td>\n",
       "      <td>available_online</td>\n",
       "      <td>Available Online</td>\n",
       "      <td>ironhack</td>\n",
       "      <td>10828</td>\n",
       "    </tr>\n",
       "    <tr>\n",
       "      <th>1</th>\n",
       "      <td>&lt;p&gt;School publishes a third-party verified out...</td>\n",
       "      <td>verified_outcomes</td>\n",
       "      <td>Verified Outcomes</td>\n",
       "      <td>ironhack</td>\n",
       "      <td>10828</td>\n",
       "    </tr>\n",
       "    <tr>\n",
       "      <th>2</th>\n",
       "      <td>&lt;p&gt;School offers part-time and evening classes...</td>\n",
       "      <td>flexible_classes</td>\n",
       "      <td>Flexible Classes</td>\n",
       "      <td>ironhack</td>\n",
       "      <td>10828</td>\n",
       "    </tr>\n",
       "    <tr>\n",
       "      <th>0</th>\n",
       "      <td>&lt;p&gt;School offers fully online courses&lt;/p&gt;</td>\n",
       "      <td>available_online</td>\n",
       "      <td>Available Online</td>\n",
       "      <td>app-academy</td>\n",
       "      <td>10525</td>\n",
       "    </tr>\n",
       "    <tr>\n",
       "      <th>1</th>\n",
       "      <td>&lt;p&gt;School offers part-time and evening classes...</td>\n",
       "      <td>flexible_classes</td>\n",
       "      <td>Flexible Classes</td>\n",
       "      <td>app-academy</td>\n",
       "      <td>10525</td>\n",
       "    </tr>\n",
       "  </tbody>\n",
       "</table>\n",
       "</div>"
      ],
      "text/plain": [
       "                                         description            keyword  \\\n",
       "0          <p>School offers fully online courses</p>   available_online   \n",
       "1  <p>School publishes a third-party verified out...  verified_outcomes   \n",
       "2  <p>School offers part-time and evening classes...   flexible_classes   \n",
       "0          <p>School offers fully online courses</p>   available_online   \n",
       "1  <p>School offers part-time and evening classes...   flexible_classes   \n",
       "\n",
       "                name       school  school_id  \n",
       "0   Available Online     ironhack      10828  \n",
       "1  Verified Outcomes     ironhack      10828  \n",
       "2   Flexible Classes     ironhack      10828  \n",
       "0   Available Online  app-academy      10525  \n",
       "1   Flexible Classes  app-academy      10525  "
      ]
     },
     "execution_count": 10,
     "metadata": {},
     "output_type": "execute_result"
    }
   ],
   "source": [
    "badges = pd.concat(badges_list)\n",
    "badges.head()"
   ]
  },
  {
   "cell_type": "code",
   "execution_count": 11,
   "metadata": {
    "colab": {
     "base_uri": "https://localhost:8080/",
     "height": 138
    },
    "id": "kWLmzVpmiZD2",
    "outputId": "ec60bb8a-f08d-466e-eed3-b35f8f90bed2"
   },
   "outputs": [
    {
     "data": {
      "text/html": [
       "<div>\n",
       "<style scoped>\n",
       "    .dataframe tbody tr th:only-of-type {\n",
       "        vertical-align: middle;\n",
       "    }\n",
       "\n",
       "    .dataframe tbody tr th {\n",
       "        vertical-align: top;\n",
       "    }\n",
       "\n",
       "    .dataframe thead th {\n",
       "        text-align: right;\n",
       "    }\n",
       "</style>\n",
       "<table border=\"1\" class=\"dataframe\">\n",
       "  <thead>\n",
       "    <tr style=\"text-align: right;\">\n",
       "      <th></th>\n",
       "      <th>website</th>\n",
       "      <th>description</th>\n",
       "      <th>LogoUrl</th>\n",
       "      <th>school</th>\n",
       "      <th>school_id</th>\n",
       "    </tr>\n",
       "  </thead>\n",
       "  <tbody>\n",
       "    <tr>\n",
       "      <th>0</th>\n",
       "      <td>www.ironhack.com/en</td>\n",
       "      <td>&lt;span class=\"truncatable\"&gt;&lt;p&gt;Ironhack is a glo...</td>\n",
       "      <td>https://d92mrp7hetgfk.cloudfront.net/images/si...</td>\n",
       "      <td>ironhack</td>\n",
       "      <td>10828</td>\n",
       "    </tr>\n",
       "    <tr>\n",
       "      <th>0</th>\n",
       "      <td>appacademy.io</td>\n",
       "      <td>&lt;span class=\"truncatable\"&gt;&lt;p&gt;App Academy is a ...</td>\n",
       "      <td>https://d92mrp7hetgfk.cloudfront.net/images/si...</td>\n",
       "      <td>app-academy</td>\n",
       "      <td>10525</td>\n",
       "    </tr>\n",
       "    <tr>\n",
       "      <th>0</th>\n",
       "      <td>www.springboard.com/?utm_source=switchup&amp;utm_m...</td>\n",
       "      <td>&lt;span class=\"truncatable\"&gt;&lt;p&gt;Springboard is an...</td>\n",
       "      <td>https://d92mrp7hetgfk.cloudfront.net/images/si...</td>\n",
       "      <td>springboard</td>\n",
       "      <td>11035</td>\n",
       "    </tr>\n",
       "  </tbody>\n",
       "</table>\n",
       "</div>"
      ],
      "text/plain": [
       "                                             website  \\\n",
       "0                                www.ironhack.com/en   \n",
       "0                                      appacademy.io   \n",
       "0  www.springboard.com/?utm_source=switchup&utm_m...   \n",
       "\n",
       "                                         description  \\\n",
       "0  <span class=\"truncatable\"><p>Ironhack is a glo...   \n",
       "0  <span class=\"truncatable\"><p>App Academy is a ...   \n",
       "0  <span class=\"truncatable\"><p>Springboard is an...   \n",
       "\n",
       "                                             LogoUrl       school  school_id  \n",
       "0  https://d92mrp7hetgfk.cloudfront.net/images/si...     ironhack      10828  \n",
       "0  https://d92mrp7hetgfk.cloudfront.net/images/si...  app-academy      10525  \n",
       "0  https://d92mrp7hetgfk.cloudfront.net/images/si...  springboard      11035  "
      ]
     },
     "execution_count": 11,
     "metadata": {},
     "output_type": "execute_result"
    }
   ],
   "source": [
    "# any data cleaning still missing here? take a look at the description\n",
    "schools = pd.concat(schools_list)\n",
    "schools.head()"
   ]
  },
  {
   "cell_type": "code",
   "execution_count": null,
   "metadata": {},
   "outputs": [],
   "source": []
  }
 ],
 "metadata": {
  "colab": {
   "collapsed_sections": [],
   "name": "sql-project.ipynb",
   "provenance": []
  },
  "kernelspec": {
   "display_name": "Python 3",
   "language": "python",
   "name": "python3"
  },
  "language_info": {
   "codemirror_mode": {
    "name": "ipython",
    "version": 3
   },
   "file_extension": ".py",
   "mimetype": "text/x-python",
   "name": "python",
   "nbconvert_exporter": "python",
   "pygments_lexer": "ipython3",
   "version": "3.8.3-final"
  }
 },
 "nbformat": 4,
 "nbformat_minor": 1
}